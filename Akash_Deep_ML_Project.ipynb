{
  "nbformat": 4,
  "nbformat_minor": 0,
  "metadata": {
    "colab": {
      "provenance": [],
      "authorship_tag": "ABX9TyMrEKlQNAXXHgV8S+6CxJjG",
      "include_colab_link": true
    },
    "kernelspec": {
      "name": "python3",
      "display_name": "Python 3"
    },
    "language_info": {
      "name": "python"
    }
  },
  "cells": [
    {
      "cell_type": "markdown",
      "metadata": {
        "id": "view-in-github",
        "colab_type": "text"
      },
      "source": [
        "<a href=\"https://colab.research.google.com/github/2001akash/Wall-Following-Robot-Navigation-Data/blob/main/Akash_Deep_ML_Project.ipynb\" target=\"_parent\"><img src=\"https://colab.research.google.com/assets/colab-badge.svg\" alt=\"Open In Colab\"/></a>"
      ]
    },
    {
      "cell_type": "code",
      "execution_count": null,
      "metadata": {
        "colab": {
          "base_uri": "https://localhost:8080/"
        },
        "id": "InDLNnIYVgRs",
        "outputId": "ebef47e1-1b68-43d0-af13-432693fb7942"
      },
      "outputs": [
        {
          "output_type": "stream",
          "name": "stdout",
          "text": [
            "Int64Index([ 0,  1,  2,  3,  4,  5,  6,  7,  8,  9, 10, 11, 12, 13, 14, 15, 16,\n",
            "            17, 18, 19, 20, 21, 22, 23, 24],\n",
            "           dtype='int64')\n"
          ]
        }
      ],
      "source": [
        "\n",
        "# 1. Read Dataset from UCI machine learning repository\n",
        "import pandas as pd\n",
        "from sklearn.impute import SimpleImputer\n",
        "from sklearn.preprocessing import LabelEncoder, StandardScaler\n",
        "from sklearn.model_selection import train_test_split\n",
        "from sklearn.linear_model import LogisticRegression\n",
        "from sklearn.tree import DecisionTreeClassifier\n",
        "from sklearn.ensemble import RandomForestClassifier\n",
        "from sklearn.model_selection import GridSearchCV\n",
        "from sklearn.metrics import accuracy_score, classification_report\n",
        "import pandas as pd\n",
        "url = 'https://archive.ics.uci.edu/ml/machine-learning-databases/00194/sensor_readings_24.data'\n",
        "data = pd.read_csv(url, header=None)\n",
        "print(data.columns)\n"
      ]
    },
    {
      "cell_type": "code",
      "source": [
        "# Rename columns\n",
        "data.columns = ['sensor{}'.format(i) for i in range(1, 25)] + ['class']\n",
        "\n",
        "# Convert class labels to numeric values\n",
        "le = LabelEncoder()\n",
        "data['class'] = le.fit_transform(data['class'])\n",
        "\n",
        "# Handle missing data\n",
        "imputer = SimpleImputer(strategy='mean')\n",
        "num_cols = data.columns[:-1]\n",
        "data[num_cols] = imputer.fit_transform(data[num_cols])\n",
        "\n",
        "# Feature scaling\n",
        "scaler = StandardScaler()\n",
        "data[num_cols] = scaler.fit_transform(data[num_cols])"
      ],
      "metadata": {
        "id": "yZpVJu-aWBEM"
      },
      "execution_count": null,
      "outputs": []
    },
    {
      "cell_type": "code",
      "source": [
        "from sklearn.model_selection import train_test_split\n",
        "from sklearn.linear_model import LogisticRegression\n",
        "from sklearn.tree import DecisionTreeClassifier\n",
        "from sklearn.ensemble import RandomForestClassifier\n",
        "from sklearn.metrics import accuracy_score, f1_score\n",
        "\n",
        "X_train, X_test, y_train, y_test = train_test_split(data.iloc[:, :-1], data.iloc[:, -1], test_size=0.2, random_state=42)\n",
        "\n",
        "# Train and evaluate logistic regression model\n",
        "lr = LogisticRegression()\n",
        "lr.fit(X_train, y_train)\n",
        "lr_pred = lr.predict(X_test)\n",
        "lr_acc = accuracy_score(y_test, lr_pred)\n",
        "lr_f1 = f1_score(y_test, lr_pred, average='macro')\n",
        "\n",
        "# Train and evaluate decision tree model\n",
        "dt = DecisionTreeClassifier()\n",
        "dt.fit(X_train, y_train)\n",
        "dt_pred = dt.predict(X_test)\n",
        "dt_acc = accuracy_score(y_test, dt_pred)\n",
        "dt_f1 = f1_score(y_test, dt_pred, average='macro')\n",
        "\n",
        "# Train and evaluate random forest model\n",
        "rf = RandomForestClassifier()\n",
        "rf.fit(X_train, y_train)\n",
        "rf_pred = rf.predict(X_test)\n",
        "rf_acc = accuracy_score(y_test, rf_pred)\n",
        "rf_f1 = f1_score(y_test, rf_pred, average='macro')\n",
        "\n",
        "# Print evaluation metrics for each model\n",
        "print('Logistic Regression Accuracy: {:.2f}, F1 Score: {:.2f}'.format(lr_acc, lr_f1))\n",
        "print('Decision Tree Accuracy: {:.2f}, F1 Score: {:.2f}'.format(dt_acc, dt_f1))\n",
        "print('Random Forest Accuracy: {:.2f}, F1 Score: {:.2f}'.format(rf_acc, rf_f1))\n"
      ],
      "metadata": {
        "colab": {
          "base_uri": "https://localhost:8080/"
        },
        "id": "dD6Yle1PWg88",
        "outputId": "18092132-2a49-400d-a07b-0e1020e8e427"
      },
      "execution_count": null,
      "outputs": [
        {
          "output_type": "stream",
          "name": "stdout",
          "text": [
            "Logistic Regression Accuracy: 0.70, F1 Score: 0.63\n",
            "Decision Tree Accuracy: 0.99, F1 Score: 0.99\n",
            "Random Forest Accuracy: 0.99, F1 Score: 0.99\n"
          ]
        }
      ]
    },
    {
      "cell_type": "code",
      "source": [
        "\n",
        "#.4 Apply Hyperparameter Tuning:\n",
        "#To improve the performance of your models, you can tune their hyperparameters. Here's an example of how you could perform hyperparameter tuning for the random forest model using a grid search:\n",
        "\n",
        "from sklearn.model_selection import GridSearchCV\n",
        "\n",
        "# Define hyperparameters to tune\n",
        "params = {'n_estimators': [50, 100, 200], 'max_depth': [5, 10, None]}\n",
        "\n",
        "# Perform grid search to find best hyperparameters\n",
        "rf_gs = GridSearchCV(RandomForestClassifier(), params, cv=5, n_jobs=-1)\n",
        "rf_gs.fit(X_train, y_train)\n",
        "\n",
        "# Print best hyperparameters\n",
        "print('Best hyperparameters: ', rf_gs.best_params_)\n"
      ],
      "metadata": {
        "colab": {
          "base_uri": "https://localhost:8080/"
        },
        "id": "CdUsBHHrdWTP",
        "outputId": "5f8ac73a-967e-4280-fd97-c68a2489bda3"
      },
      "execution_count": null,
      "outputs": [
        {
          "output_type": "stream",
          "name": "stdout",
          "text": [
            "Best hyperparameters:  {'max_depth': None, 'n_estimators': 100}\n"
          ]
        }
      ]
    },
    {
      "cell_type": "code",
      "source": [
        "# Train and evaluate best random forest model\n",
        "rf_best = RandomForestClassifier(n_estimators=200, max_depth=None)\n",
        "rf_best.fit(X_train, y_train)\n",
        "rf_best_pred = rf_best.predict(X_test)\n",
        "rf_best_acc = accuracy_score(y_test, rf_best_pred)\n",
        "rf_best_f1 = f1_score(y_test, rf_best_pred, average='weighted')\n",
        "\n",
        "# Print evaluation metrics for each model\n",
        "print('Logistic Regression Accuracy: {:.2f}, F1 Score: {:.2f}'.format(lr_acc, lr_f1))\n",
        "print('Decision Tree Accuracy: {:.2f}, F1 Score: {:.2f}'.format(dt_acc, dt_f1))\n",
        "print('Random Forest Accuracy: {:.2f}, F1 Score: {:.2f}'.format(rf_acc, rf_f1))\n",
        "print('Best Random Forest Accuracy: {:.2f}, F1 Score: {:.2f}'.format(rf_best_acc, rf_best_f1))\n"
      ],
      "metadata": {
        "colab": {
          "base_uri": "https://localhost:8080/"
        },
        "id": "hXFQx_ajeZmR",
        "outputId": "3fe0bfb3-a878-4947-94e1-849ecfd90aad"
      },
      "execution_count": null,
      "outputs": [
        {
          "output_type": "stream",
          "name": "stdout",
          "text": [
            "Logistic Regression Accuracy: 0.70, F1 Score: 0.63\n",
            "Decision Tree Accuracy: 0.99, F1 Score: 0.99\n",
            "Random Forest Accuracy: 0.99, F1 Score: 0.99\n",
            "Best Random Forest Accuracy: 0.99, F1 Score: 0.99\n"
          ]
        }
      ]
    }
  ]
}